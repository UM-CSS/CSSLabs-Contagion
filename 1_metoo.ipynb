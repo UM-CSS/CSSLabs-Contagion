{
 "cells": [
  {
   "cell_type": "markdown",
   "metadata": {},
   "source": [
    "# Complicating Social Contagion"
   ]
  },
  {
   "attachments": {},
   "cell_type": "markdown",
   "metadata": {},
   "source": [
    "## Section 1: Background\n",
    "### 1.1 Learning Objectives\n",
    "- Explore different aspects of social influence that affect social contagion processes.\n",
    "\n",
    "### 1.2 Data\n",
    "- This lab uses data collected from Twitter. Before the lab, we already collected the data and did a lot to clean it up. In the lab, will focus on using the data to understand social contagion.\n",
    "- We will look at the spread of the hashtag #metoo on Twitter. [The Me Too Campaign began in 2007](https://www.nytimes.com/2017/10/20/us/me-too-movement-tarana-burke.html). The hashtag became extremely popular on Twitter starting in October, 2017. It was tweeted more than 7 million times in the first 4 months after that.\n",
    "- Me Too is a social movement that calls attention to sexual assault and harassment. We will not be looking at the text of any of the tweets in this lab. For our purposes here, we just want to look at how being exposed to other people talking about #metoo on Twitter influences someone to also talk about #metoo on Twitter.\n",
    "- Fun fact: the data Jeff collected for this lab was used in a published research paper!\n",
    "    - Gallagher, R.J., Stowell, E., Parker, A.G. and Foucault Welles, B., 2019. [Reclaiming stigmatized narratives: The networked disclosure landscape of #MeToo.](https://dl.acm.org/doi/abs/10.1145/3359198) Proceedings of the ACM on Human-Computer Interaction, 3(CSCW), pp.1-30.\n",
    "    \n",
    "@Author: [Jeff Lockhart](http://www-personal.umich.edu/~jwlock/)"
   ]
  },
  {
   "cell_type": "markdown",
   "metadata": {},
   "source": [
    "## Section 2: Setup\n",
    "#### Import Python Modules"
   ]
  },
  {
   "cell_type": "code",
   "execution_count": null,
   "metadata": {},
   "outputs": [],
   "source": [
    "import pandas as pd\n",
    "import numpy as np\n",
    "import matplotlib.pyplot as plt\n",
    "from matplotlib.colors import LogNorm\n",
    "from datetime import datetime\n",
    "\n",
    "#plt.style.use('fivethirtyeight')\n",
    "%matplotlib inline"
   ]
  },
  {
   "cell_type": "code",
   "execution_count": null,
   "metadata": {},
   "outputs": [],
   "source": [
    "#plt.style.use('fivethirtyeight')\n",
    "plt.style.use('ggplot')"
   ]
  },
  {
   "cell_type": "markdown",
   "metadata": {},
   "source": [
    "## Section 3: Spread of MeToo\n",
    "\n",
    "#### Load data & helper function"
   ]
  },
  {
   "cell_type": "code",
   "execution_count": null,
   "metadata": {},
   "outputs": [],
   "source": [
    "def downcast(df):\n",
    "    tmp = df.select_dtypes(int)\n",
    "    for c in tmp.columns.values:\n",
    "        df[c] = pd.to_numeric(df[c], downcast='unsigned')\n",
    "    \n",
    "    tmp = df.select_dtypes(float)\n",
    "    for c in tmp.columns.values:\n",
    "        df[c] = pd.to_numeric(df[c], downcast='float')\n",
    "\n",
    "pcts = pd.read_csv('data/daily_pcts.tsv', sep='\\t', index_col=0)\n",
    "pcts.index = pd.to_datetime(pcts.index)\n",
    "downcast(pcts)\n",
    "\n",
    "counts = pd.read_csv('data/daily_counts.tsv', sep='\\t', index_col=0)\n",
    "counts.index = pd.to_datetime(counts.index)\n",
    "downcast(counts)"
   ]
  },
  {
   "cell_type": "markdown",
   "metadata": {},
   "source": [
    "#### Every day, a few people used the hashtag #metoo\n",
    "- Take a look at the chart below. It shows how many tweets were made every day using the hashtag #metoo\n",
    "- Notice that people on twitter did use the hashtag #metoo before October 15, 2017."
   ]
  },
  {
   "cell_type": "code",
   "execution_count": null,
   "metadata": {},
   "outputs": [],
   "source": [
    "event = datetime(2017,10,15)\n",
    "\n",
    "counts[counts.index < event].tweets.plot.area(figsize=(5,6), title='#metoo Tweets per Day')\n",
    "plt.tight_layout()"
   ]
  },
  {
   "cell_type": "markdown",
   "metadata": {},
   "source": [
    "#### Then something happened\n",
    "- On October 15, 2017, producer and actress Alyssa Milano used the hashtag, and there were 600,000 tweets about it within a single day.\n",
    "- Since then, the number of #metoo tweets per day has been mugh higher.\n",
    "- It is possible that some of these people are coming up with the hashtag on their own. However, we saw above that before Milano tweeted, not many tweets used the hashtag. The extreme and fast growth of the hashtag suggests a process of social influence or contagion: people are getting the idea from seeing other people use it."
   ]
  },
  {
   "cell_type": "code",
   "execution_count": null,
   "metadata": {},
   "outputs": [],
   "source": [
    "counts.tweets.plot.area(figsize=(10,7), title='#metoo Tweets per Day')\n",
    "plt.tight_layout()"
   ]
  },
  {
   "attachments": {},
   "cell_type": "markdown",
   "metadata": {},
   "source": [
    "<div class=\"alert-info\">\n",
    "    \n",
    "#### Short answer 1:\n",
    "- After the initial October 15 rush of tweets, there are several other days where the number of tweets jumps up. In a few sentences, write what you think might be happening on those days.\n",
    "    \n",
    "</div>"
   ]
  },
  {
   "cell_type": "markdown",
   "metadata": {},
   "source": [
    "**🤔Your answers here**"
   ]
  },
  {
   "cell_type": "markdown",
   "metadata": {},
   "source": [
    "#### Cumulative plots\n",
    "- In the chart below, we show how the total number of tweets about #metoo grows over time. This is called a \"cumulative\" plot, because the tweets \"accumulate\" over time. That is, the value for each day is the total number of tweets about #metoo that have happened up to that day. As time goes on, the number of tweets that have ever been made can only go up, so each day is as high or higher than the day before it (we ignore deleted tweets).\n",
    "- We also show how the number of people using the hashtag grows over time.\n",
    "- Notice that participation does not grow at a constant rate. Instead, it grows in bursts, just like the daily tweeting happens in bursts."
   ]
  },
  {
   "cell_type": "code",
   "execution_count": null,
   "metadata": {},
   "outputs": [],
   "source": [
    "counts.cumsum().plot(figsize=(10,7), title='All-Time Total Number of #metoo Tweets and People Tweeting #metoo')\n",
    "plt.tight_layout()"
   ]
  },
  {
   "cell_type": "markdown",
   "metadata": {},
   "source": [
    "#### Most #metoo tweets are social\n",
    "- There are different kinds of tweets on Twitter. These are the two most common ones:\n",
    "    - **New tweets** are when someone writes a tweet and posts it.\n",
    "    - **Retweets** are when someone shares another person's tweet.\n",
    "- Retweets involve a user interacting with other users: sharing what they wrote. They're a clear example of contagion because one user literally got the tweet from another user.\n",
    "- In the two charts below, we see that the majority of tweets about #metoo are retweets. "
   ]
  },
  {
   "cell_type": "code",
   "execution_count": null,
   "metadata": {},
   "outputs": [],
   "source": [
    "pcts.plot.line(y=['retweet', 'new_tweet'], ylim = [0,1],\n",
    "              figsize=(10,6), title='#MeToo Tweets by Type')\n",
    "plt.tight_layout()"
   ]
  },
  {
   "cell_type": "markdown",
   "metadata": {},
   "source": [
    "## Section 4: How much exposure to #metoo do people have before joining?\n",
    "- **Imortant note**: in this lab a person's \"exposure\" to #metoo means the number of times they have seen tweets about it. We're using \"exposure\" in the disease sense, as in \"was I exposed to COVID-19?\" We do not mean \"exposure\" the way \"paid in exposure\" does: exposure is not how many other people have been \"exposed\" to my tweets. It is how many tweets I've seen.\n",
    "- The cell below loads and prepares data for this section. You don't need to understand it right now. Run the cell and scroll down."
   ]
  },
  {
   "cell_type": "code",
   "execution_count": null,
   "metadata": {},
   "outputs": [],
   "source": [
    "#load data\n",
    "tfm = pd.read_csv('data/tweets_friends_mentions_all.tsv', sep='\\t')\n",
    "#focus on people who have seen < 2,000 tweets (most people)\n",
    "tfm = tfm[(tfm.tweets_seen <=2000)]\n",
    "downcast(tfm)\n",
    "\n",
    "tweets_seen = pd.read_csv('data/tweets_seen.tsv', sep='\\t')\n",
    "friends_seen = pd.read_csv('data/friends_seen.tsv', sep='\\t')\n",
    "\n",
    "#helper function \n",
    "def calc_probs(df):\n",
    "    df['pct_tweeted'] = df.n_tweeted / df.n_tweeted.max()\n",
    "    \n",
    "    if 'n_viewers' in df.columns:\n",
    "        df['prob_at_exact_exposure'] = df.n_tweets / (df.n_viewers + df.n_tweets) \n",
    "    else:\n",
    "        df['prob_at_exact_exposure'] = np.NaN\n",
    "    \n",
    "    df.sort_values(by='views', ascending=False, inplace=True)\n",
    "    df['n_viewers_metoo'] = df.n_tweets.cumsum()\n",
    "    df.sort_values(by='views', ascending=True, inplace=True)\n",
    "    df['joiners_prob_at_exact_exposure'] = df.n_tweets / (df.n_viewers_metoo)     \n",
    "    downcast(df)\n",
    "    return df\n",
    "    \n",
    "tweets_seen = calc_probs(tweets_seen)\n",
    "friends_seen = calc_probs(friends_seen)"
   ]
  },
  {
   "cell_type": "markdown",
   "metadata": {},
   "source": [
    "- We know that people are getting the idea to use #metoo from each other. In this section, we'll look at how much exposure to #metoo they had from other users. That is, we will see how many times people were exposed to #metoo before they participated by tweeting about it themselves.\n",
    "- In the plot below, we see one dot for every person who tweeted #metoo. \n",
    "    - The dot indicates how many tweets (x axis) and friends (y axis) they saw tweeting about #metoo before they made their first #metoo tweet. So someone who saw 200 tweets from 50 friends would be shown as a dot at x=200, y=50\n",
    "    \n",
    "**Note:** The charts in the rest of the lab have more code than usual. This is just so that we can set up the labels and make the charts pretty. Don't worry about the details of that formatting code (lines starting with `ax` or `plt`)."
   ]
  },
  {
   "cell_type": "code",
   "execution_count": null,
   "metadata": {},
   "outputs": [],
   "source": [
    "fig, ax = plt.subplots(figsize=(10,6))\n",
    "plt.scatter(x=tfm.tweets_seen, y=tfm.friends_seen, s=1, alpha=.5)\n",
    "ax.set_ylabel('Friends Seen')\n",
    "ax.set_xlabel('Tweets Seen')\n",
    "ax.set_title(\"Users' Exposure before First #metoo Tweet\")\n",
    "ax.set_xlim(0,2000)\n",
    "ax.set_ylim(0,1150)\n",
    "plt.show()"
   ]
  },
  {
   "attachments": {},
   "cell_type": "markdown",
   "metadata": {},
   "source": [
    "#### Seeing this more clearly\n",
    "- It is hard to see individual people in the chart above, because there are 2 million people all crammed into a small amount of space on our screens.\n",
    "- The chart below color codes each area of the chart by how many people are there. This lets us see how densely packed the points are. Or, in other words, it lets us see what values are most and least common.\n",
    "    - The dark blue areas have very few people ($10^0 = 1$). \n",
    "    - The green areas have more people (e.g. $10^3 = 1,000$)\n",
    "    - The bright yellow areas have a lot of people ($10^5 = 100,000$)"
   ]
  },
  {
   "cell_type": "code",
   "execution_count": null,
   "metadata": {},
   "outputs": [],
   "source": [
    "fig, ax = plt.subplots(figsize=(12,6))\n",
    "#plt.hist2d(x=tfm.tweets_seen, y=tfm.friends_seen, bins=60, norm=LogNorm())\n",
    "#hexbin is another way of getting the same plot as 2dhist\n",
    "plt.hexbin(x=tfm.tweets_seen, y=tfm.friends_seen, bins=800000, norm=LogNorm())\n",
    "ax.set_ylabel('Friends Seen')\n",
    "ax.set_xlabel('Tweets Seen')\n",
    "ax.set_title(\"Users' Exposure before First #metoo Tweet\")\n",
    "ax.set_xlim(0,2000)\n",
    "ax.set_ylim(0,1150)\n",
    "ax.grid(True)\n",
    "plt.colorbar()\n",
    "plt.show()"
   ]
  },
  {
   "attachments": {},
   "cell_type": "markdown",
   "metadata": {},
   "source": [
    "#### What model could these data patterns follow?\n",
    "\n",
    "*From lecture:*\n",
    "\n",
    "**Stochastic Threshold:** the probability of the effect occurring is assumed to be a linear function of exposure without a threshold.\n",
    "\n",
    "ex: Probability of doing something and the fraction of friends who do it = “Do it if and only if enough neighbors do it ”\n",
    "\n",
    "\n",
    "**Deterministic Threshold:** a threshold is believed to exist and the effect increases with the amount of exposure.\n",
    "\n",
    "ex: Probability of doing something and the fraction of friends who do it = “Sometimes do it, but more likely to do it if enough neighbors do it”"
   ]
  },
  {
   "attachments": {},
   "cell_type": "markdown",
   "metadata": {},
   "source": [
    "<div class=\"alert-info\">\n",
    "\n",
    "#### Short Answer 2:\n",
    "The plot above shows that joining is most common at low levels of exposure, and the level of exposure before joining #metoo for the first time varies across people.\n",
    "- Do you think the patterns in this data follow a deterministic or stochastic threshold model? There is no right answer.\n",
    "   (2-3 sentences)\n",
    "</div>"
   ]
  },
  {
   "cell_type": "markdown",
   "metadata": {},
   "source": [
    "**🤔Your answers here**"
   ]
  },
  {
   "cell_type": "markdown",
   "metadata": {},
   "source": [
    "#### How much exposure do most people have when they join?\n",
    "- In the charts above, it is hard to see in them how much exposure is required for a majority of people.\n",
    "- In the next chart, we look at the same data with a cumulative plot. We show the cumulative number of people who have joined by the time their exposure reaches x.\n",
    "    - So, for example, the chart below says that of the people who eventually tweeted #metoo, 80% of them made their first tweet after seeing fewer than 100 of the people they follow tweet #metoo.\n",
    "- **Try it:** run the code below several times, picking different numbers for the `maximum_exposure` in order to zoom in and out."
   ]
  },
  {
   "cell_type": "code",
   "execution_count": null,
   "metadata": {},
   "outputs": [],
   "source": [
    "maximum_exposure = 500\n",
    "\n",
    "fig, ax = plt.subplots(figsize=(10,8))\n",
    "plt.plot(friends_seen.views, friends_seen.pct_tweeted, label='Friends Seen')\n",
    "plt.plot(tweets_seen.views, tweets_seen.pct_tweeted, label='Tweets Seen', color='black')\n",
    "ax.set_ylabel('Fraction Who Joined #metoo by Exposure X')\n",
    "ax.set_xlabel('Exposure')\n",
    "ax.set_xlim(-1, maximum_exposure)\n",
    "ax.set_ylim(0, 1)\n",
    "ax.set_title('Fraction of Joiners who join by the Time Their Exposure is X')\n",
    "plt.legend(loc='lower right')\n",
    "plt.tight_layout()\n",
    "plt.show()"
   ]
  },
  {
   "attachments": {},
   "cell_type": "markdown",
   "metadata": {},
   "source": [
    "<div class=\"alert-info\">\n",
    "\n",
    "#### Short Answer 3:\n",
    "- The majority of people (51%) have tweeted by the time they get to what level of exposure? Write how many tweets they have seen, and how many friends they have seen tweeting in a full sentence.\n",
    "    \n",
    "</div>"
   ]
  },
  {
   "cell_type": "markdown",
   "metadata": {},
   "source": [
    "**🤔Your answers here**"
   ]
  },
  {
   "attachments": {},
   "cell_type": "markdown",
   "metadata": {},
   "source": [
    "## Section 5: Does more exposure make people *less* likely to join?\n",
    "- We saw above that most people join at low levels of exposure. \n",
    "- Does this mean that more exposure makes people less likely to join? We will find out in this section"
   ]
  },
  {
   "attachments": {},
   "cell_type": "markdown",
   "metadata": {},
   "source": [
    "<div class=\"alert-info\">\n",
    "    \n",
    "#### Short answer 4:\n",
    "- Before we do, make a prediction:\n",
    "- Two senarios might be possible after people get more exposure\n",
    "    - 1. They are *more* willing to tweet about #metoo by seeing more people doing it.\n",
    "    - 2. They are *less* willing to tweet about #metoo by seeing more people doing it.\n",
    "    \n",
    "Explain why **each of the two** senarios might occur in a few sentences. Which one do you think is more plausible?\n",
    "\n",
    "</div>"
   ]
  },
  {
   "cell_type": "markdown",
   "metadata": {},
   "source": [
    "**🤔Your answers here**"
   ]
  },
  {
   "cell_type": "markdown",
   "metadata": {},
   "source": [
    "#### Let's see if you're right!\n",
    "#### Probability of tweeting #metoo based on amount of exposure\n",
    "- The plot below shows how many times someone has been exposed to the hashtag #metoo on the X axis.\n",
    "    - The number of tweets they have seen is the number of times people they follow have tweeted about #metoo\n",
    "    - The number of people seen is the number of people they follow who have tweeted about #metoo.\n",
    "- On the Y axis, they show the probability that someone will make their first #metoo tweet, after having seen X number of tweets or people tweeting about #metoo (**and before seeing X+1 number of tweets or people tweeting about #metoo**).\n",
    "    - Probability ranges from 0 (it definitely will not happen) to 1 (it definitely will happen). Getting \"heads\" on a coin toss has a probability of 0.5 (50%). Rolling a one on a six-sided die has a probability of $1/6 \\approx 0.1667$ (16.67%). \n",
    "    - So, for example, if people who have seen exactly 20 of the people they follow tweet about #metoo have a 0.02 probability of making their first #metoo tweet, that's a 2% chance of \"catching\" the \"contagion.\"\n",
    "- **Try it:** change the `max_exposure` variable to zoom in and out on the x axis.  "
   ]
  },
  {
   "cell_type": "code",
   "execution_count": null,
   "metadata": {},
   "outputs": [],
   "source": [
    "max_exposure = 500\n",
    "\n",
    "fig, ax = plt.subplots(figsize=(10,8))\n",
    "plt.scatter(x=friends_seen.views, y=friends_seen.prob_at_exact_exposure, label='People Seen')\n",
    "plt.scatter(x=tweets_seen.views, y=tweets_seen.prob_at_exact_exposure, label='Tweets Seen', color='black')\n",
    "ax.set_ylabel('Probability of Tweeting #metoo for the first time')\n",
    "ax.set_xlabel('Exposure')\n",
    "ax.set_xlim(0, max_exposure)\n",
    "ax.set_ylim(0, 0.3)\n",
    "ax.set_title('Fraction of People with Exact Exposure X Who Tweet')\n",
    "plt.legend(loc='upper left')\n",
    "plt.tight_layout()\n",
    "plt.show()"
   ]
  },
  {
   "attachments": {},
   "cell_type": "markdown",
   "metadata": {},
   "source": [
    "<div class=\"alert-info\">\n",
    "    \n",
    "#### Short Answer 5:\n",
    "- Why is the trend of red dots higher than the trend of black dots? Was your prediction above correct? \n",
    "\n",
    "</div>"
   ]
  },
  {
   "cell_type": "markdown",
   "metadata": {},
   "source": [
    "**🤔Your answers here**"
   ]
  },
  {
   "cell_type": "markdown",
   "metadata": {},
   "source": [
    "### Why does this happen?\n",
    "- The chart above tells us that high exposure people are more likely to tweet than low exposure people. But the charts before that told us that most people who tweet about #metoo do so at lower levels of exposure. \n",
    "- This happens because there are different numbers of people at each level of exposure. 41 million people saw one tweet about #metoo, but only 12 million people saw 5 tweets about it, and only 164 thousand people saw 100 tweets about it. You can see this in the chart below.\n",
    "- Thus, even though only 1 out of 1,000 people who see #metoo one time tweet about it, so many people see it one time that the number of people tweeting after one exposure is 41,865. People who see #metoo 100 times are 12 times more likely to tweet about it than those who only saw it once (12 out of 1,000). But because so few people are exposed 100 times, the total number tweeting after 100 exposures is just 1,977 (that is 20 times fewer people)!"
   ]
  },
  {
   "cell_type": "markdown",
   "metadata": {},
   "source": [
    "*The number of people tweet after seeing X exposure  \n",
    " = probability that people tweet after seeing X exposure * number of people saw X exposure*"
   ]
  },
  {
   "cell_type": "markdown",
   "metadata": {},
   "source": [
    "$(0.001*41865986) > (0.012*164788)$\n",
    "    \n",
    "$41865 > 1977$"
   ]
  },
  {
   "cell_type": "code",
   "execution_count": null,
   "metadata": {},
   "outputs": [],
   "source": [
    "max_exposure = 100\n",
    "\n",
    "fig, ax = plt.subplots(figsize=(10,8))\n",
    "#plt.scatter(x=friends_seen.views, y=friends_seen.n_viewers/1000000, label='People')\n",
    "plt.scatter(x=tweets_seen.views, y=tweets_seen.n_viewers/1000000, label='Tweets', color='black')\n",
    "ax.set_ylabel('Millions of People')\n",
    "ax.set_xlabel('Exposure')\n",
    "ax.set_xlim(0, max_exposure)\n",
    "ax.set_ylim(0, 43)\n",
    "ax.set_title('Number of People with Exact Exposure X')\n",
    "plt.legend(loc='upper right')\n",
    "plt.tight_layout()\n",
    "plt.show()"
   ]
  },
  {
   "attachments": {},
   "cell_type": "markdown",
   "metadata": {},
   "source": [
    "<div class=\"alert-info\">\n",
    "\n",
    "#### Short Answers 6:\n",
    "- As people's exposure to #metoo increases, so does their probability of tweeting #metoo. In other words, sometimes people need multiple exposures to \"catch\" #metoo. \n",
    "    - We have assumed that people see 100% of tweets in their feed. Yet in reality, we don’t know if people really read all of the tweets in their feed. **If people only see a fraction of all the tweets in their feed, say 10%, do you think our conclusion is still valid? Write a few sentences explaining why or why not.**\n",
    "- What about the people who tweet about #metoo before any of their friends do?\n",
    "    - **What other exposures could this person be exposed to outside of this hashtag and outside of twitter? Write your explanation in a few sentences.**\n",
    "    \n",
    "    \n",
    "</div>"
   ]
  },
  {
   "cell_type": "markdown",
   "metadata": {},
   "source": [
    "**🤔Your answers here**"
   ]
  },
  {
   "attachments": {},
   "cell_type": "markdown",
   "metadata": {},
   "source": [
    "## Section 6: Are close friends more influential than other friends?\n",
    "- Before, we were looking at the users that people follow. Following shows interest and means that you'll see what that person tweets in your feed. On twitter, people you follow are called your friends.\n",
    "    - But some users follow a lot of people, and they might not care about all of them equally. \n",
    "    - A stronger signal that one user is paying attention to another user is a `mention`: when someone tags someone else in a tweet. Users generally mention fewer people than they follow, and they might mention someone they do not follow.\n",
    "    - For this lab, we will compare what happens when we look at all friends with when we look only at friends that a user mentions by name. \n",
    "- Below, we will compare the effects of seeing someone you follow tweet with seeing a friend you have mentioned tweet. \n",
    "\n",
    "Friends that follow and mention = 'Close friends (mention) Seen'\n",
    "\n",
    "Friends that follow but **do not mention**: 'Not-close friends (follow) Seen'\n",
    "\n",
    "#### Load and process data\n",
    "- Run this code and scroll down. Don't worry about how it works for now."
   ]
  },
  {
   "cell_type": "code",
   "execution_count": null,
   "metadata": {},
   "outputs": [],
   "source": [
    "close_friends_seen = pd.read_csv('data/mentions_friends_seen.tsv', sep='\\t')\n",
    "far_friends_seen = pd.read_csv('data/far_friends_seen.tsv', sep='\\t')\n",
    "\n",
    "close_friends_seen = calc_probs(close_friends_seen)\n",
    "far_friends_seen = calc_probs(far_friends_seen)"
   ]
  },
  {
   "cell_type": "markdown",
   "metadata": {},
   "source": [
    "#### The influence of close friends\n",
    "- The plot below shows the cumulative number of people who have tweeted #metoo by the time they were exposed by X number of friends or close friends."
   ]
  },
  {
   "cell_type": "markdown",
   "metadata": {},
   "source": [
    "🤔**Try it:** zoom in and out in this chart by changing the value of `max_exposure`."
   ]
  },
  {
   "cell_type": "code",
   "execution_count": null,
   "metadata": {},
   "outputs": [],
   "source": [
    "max_exposure = 50\n",
    "\n",
    "fig, ax = plt.subplots(figsize=(10,8))\n",
    "plt.plot(far_friends_seen.views, far_friends_seen.pct_tweeted, label='Not-close friends (follow) Seen')\n",
    "plt.plot(close_friends_seen.views, close_friends_seen.pct_tweeted, label='Close friends (mention) Seen')\n",
    "ax.set_ylabel('Fraction Who Joined #metoo')\n",
    "ax.set_xlabel('Exposure')\n",
    "ax.set_xlim(-2, max_exposure)\n",
    "ax.set_ylim(0, 1.01)\n",
    "ax.set_title('Fraction of Joiners who join up to Exact Exposure X')\n",
    "plt.legend(loc='lower right')\n",
    "plt.show()"
   ]
  },
  {
   "cell_type": "markdown",
   "metadata": {},
   "source": [
    "- We see that almost half tweet before any of their close friends do, and around 10% of people tweet before any of their not-close friends do.\n",
    "- We also see that people who have seen a small number of their close friends tweet are much more likely to tweet than those who have seen the same number of not-close friends tweet."
   ]
  },
  {
   "attachments": {},
   "cell_type": "markdown",
   "metadata": {},
   "source": [
    "<div class=\"alert-info\">\n",
    "    \n",
    "#### Short answer 7:\n",
    "\n",
    "Explain why the blue curve (close friends that have been mentioned) is above the red curve (friends that are followed only).\n",
    "\n",
    "(2-3 sentences)\n",
    "\n",
    "</div>"
   ]
  },
  {
   "attachments": {},
   "cell_type": "markdown",
   "metadata": {},
   "source": [
    "**🤔Your answers here**"
   ]
  },
  {
   "cell_type": "markdown",
   "metadata": {},
   "source": [
    "## Section 7: What's the right number of friends?\n",
    "- We have seen so far that seeing tweets from more friends makes people more likely to join, but is this just because more friends tweeting means they have seen more tweets?\n",
    "- To answer this question, we will compare people who have seen the exact same number of tweets, but from different numbers of friends. For example, if I have seen 20 tweets about #metoo, they might all come from one person who tweeted 20 times, from 20 different people who tweeted once, from 10 people who each tweeted twice, etc. \n",
    "\n",
    "**Helper functions:** The cell below loads and prepares some data. Run it and scroll down to continue the lab."
   ]
  },
  {
   "cell_type": "code",
   "execution_count": null,
   "metadata": {},
   "outputs": [],
   "source": [
    "vot = pd.read_csv('data/views_over_time_grouped.tsv', sep='\\t')\n",
    "first_new = pd.read_csv('data/tweets_friends_mentions_new.tsv', sep='\\t')\n",
    "first_rt = pd.read_csv('data/tweets_friends_mentions_rt.tsv', sep='\\t')\n",
    "\n",
    "def prep_views(tweets, vot):\n",
    "    tweets['action'] = 1\n",
    "    grouped = tweets.groupby(['tweets_seen', 'friends_seen']).sum().reset_index()\n",
    "    df = vot.merge(grouped, on=['tweets_seen', 'friends_seen'], how='left')\n",
    "    df['pct'] = (df.action / df.n) * 100\n",
    "    downcast(df)\n",
    "    return df\n",
    "\n",
    "first_tweet = prep_views(tfm, vot)\n",
    "first_new = prep_views(first_new, vot)\n",
    "first_rt = prep_views(first_rt, vot)"
   ]
  },
  {
   "cell_type": "markdown",
   "metadata": {},
   "source": [
    "#### The right number of friends \n",
    "- `n_tweets` is the number of tweets that people seen about #metoo, which represents the level of exposure you are interested in looking at.\n",
    "- The first graph shows you \"of the people who saw `n_tweets`, how many saw those tweets all from 1 friend, 2 friends, etc.?\"\n",
    "- The second graph shows you the probability that someone will tweet #metoo, if they have seen `n_tweets` about it from X different friends."
   ]
  },
  {
   "cell_type": "code",
   "execution_count": null,
   "metadata": {},
   "outputs": [],
   "source": [
    "n_tweets = 20\n",
    "\n",
    "df = first_tweet[first_tweet.tweets_seen == n_tweets]\n",
    "\n",
    "fig, ax = plt.subplots(figsize=(10,8))\n",
    "plt.bar(x=df.friends_seen, height=df.n)\n",
    "ax.set_ylabel('Number of People')\n",
    "ax.set_xlabel('Number of people the tweets came from')\n",
    "ax.set_title('Number of people who have seen ' + str(n_tweets) + ' tweets from X different people')\n",
    "plt.tight_layout()\n",
    "plt.show()\n",
    "\n",
    "fig, ax = plt.subplots(figsize=(10,8))\n",
    "plt.bar(x=df.friends_seen, height=df.pct)\n",
    "ax.set_ylabel('% who tweeted #metoo')\n",
    "ax.set_xlabel('Number of people the tweets came from')\n",
    "ax.set_title('Probability of tweeting #metoo after seeing ' + str(n_tweets) + ' tweets from X different people')\n",
    "plt.tight_layout()\n",
    "plt.show()"
   ]
  },
  {
   "attachments": {},
   "cell_type": "markdown",
   "metadata": {},
   "source": [
    "<div class=\"alert-info\">\n",
    "\n",
    "#### Short answer 8:\n",
    "- When we set ``n_tweets = 20``,\n",
    "    - It looks like people are less likely to tweet if all the tweets they saw came from different people (on the right in the graphs) than if they came from a few people (on the left side). \n",
    "    - It also looks like people are less likely to tweet if all of the tweets they see come from the same person. \n",
    "    - In a few sentences, say what you think might be causing these results. \n",
    "\n",
    "Pick any number from 5 to 100, and set ``n_tweets`` to several different numbers. Do you observe the same trend?\n",
    "\n",
    "</div>"
   ]
  },
  {
   "cell_type": "markdown",
   "metadata": {},
   "source": [
    "**🤔Your answers here**"
   ]
  },
  {
   "attachments": {},
   "cell_type": "markdown",
   "metadata": {},
   "source": [
    "## Section 8: Which type of tweet requires the least exposure?\n",
    "- Up to now, we have just looked at whether people tweeted about #metoo at all. But remember from the beginning that there are different kinds of tweets, including new tweets and retweets. Maybe one kind of tweet requires less exposure than another? Here are two hypotheses:\n",
    "    - Hypothesis 1: Retweets require more exposure to make than new tweets, because someone has to see a tweet they link before they can retweet it, but they can write a new tweet without seeing any tweets they like.\n",
    "    - Hypothesis 2: New tweets require more exposure, because writing something takes more effort and committment than pressing a button to share something someone else already wrote. \n",
    "    - Remember: My \"exposure\" is how much I have seen #metoo, *not* now many people have seen me talking about #metoo."
   ]
  },
  {
   "attachments": {},
   "cell_type": "markdown",
   "metadata": {},
   "source": [
    "<div class=\"alert-info\">\n",
    "    \n",
    "#### Short answer 9:\n",
    "In a few sentences, write which hypothesis you think is correct and why. \n",
    "\n",
    "(If you don't like either, you can also write your own, but you still have to explain why.)\n",
    "\n",
    "</div>"
   ]
  },
  {
   "cell_type": "markdown",
   "metadata": {},
   "source": [
    "**🤔Your answers here**"
   ]
  },
  {
   "cell_type": "markdown",
   "metadata": {},
   "source": [
    "#### Let's see!\n",
    "- The first cell loads and prepares data\n",
    "- Change `max_exposure` in the second cell to zoom in and out on the plot"
   ]
  },
  {
   "cell_type": "code",
   "execution_count": null,
   "metadata": {},
   "outputs": [],
   "source": [
    "ex_new = pd.read_csv('data/tweets_seen_before_new.tsv', sep='\\t')\n",
    "ex_rt = pd.read_csv('data/tweets_seen_before_rt.tsv', sep='\\t')\n",
    "\n",
    "ex_new = calc_probs(ex_new)\n",
    "ex_rt = calc_probs(ex_rt)"
   ]
  },
  {
   "cell_type": "code",
   "execution_count": null,
   "metadata": {},
   "outputs": [],
   "source": [
    "max_exposure = 500\n",
    "\n",
    "fig, ax = plt.subplots(figsize=(10,8))\n",
    "plt.scatter(x=ex_rt.views, y=ex_rt.prob_at_exact_exposure, label='Retweets')\n",
    "plt.scatter(x=ex_new.views, y=ex_new.prob_at_exact_exposure, label='New tweets')\n",
    "ax.set_ylabel('Fraction who Tweet')\n",
    "ax.set_xlabel('Exposure')\n",
    "ax.set_xlim(0, max_exposure)\n",
    "ax.set_ylim(0, 0.04)\n",
    "ax.set_title('Probability of Making Retweet vs New Tweet about #metoo')\n",
    "plt.legend(loc='upper left')\n",
    "plt.tight_layout()\n",
    "plt.show()"
   ]
  },
  {
   "attachments": {},
   "cell_type": "markdown",
   "metadata": {},
   "source": [
    "<div class=\"alert-info\">\n",
    "\n",
    "#### Short answer 10:\n",
    "Does the data support your hypothesis? In 3-4 sentences, say what your hypothesis was and why the data does or doesn't support it. \n",
    "    \n",
    "</div>"
   ]
  },
  {
   "cell_type": "markdown",
   "metadata": {},
   "source": [
    "**🤔Your answers here**"
   ]
  },
  {
   "attachments": {},
   "cell_type": "markdown",
   "metadata": {},
   "source": [
    "<div class=\"alert-warning\">\n",
    "\n",
    "## Reflection:\n",
    "How do you think these trends of influence and exposure could extend to other social movement hashtags?\n",
    "Using one of the following hashtag examples, describe whether you think the previous influential exposure trends we saw with #metoo would be similar or different to another social movement. (4-5 sentences)\n",
    "    \n",
    "Hashtag examples:\n",
    "-   '#BLM' : Black Lives Matter Movement\n",
    "-   '#NeverAgain': Student-led political action movement for gun control\n",
    "-   '#HeforShe': Movement for the advancement of gender equality\n",
    "    \n",
    "  Feel free to use any other hashtag you feel comfortable with.\n",
    "</div>"
   ]
  },
  {
   "attachments": {},
   "cell_type": "markdown",
   "metadata": {},
   "source": [
    "**🤔Your answers here**"
   ]
  },
  {
   "cell_type": "markdown",
   "metadata": {},
   "source": [
    "## Review\n",
    "- In this lab, we showed some of the complexity that happens in the real world by looking more closely at social contagion in data from the #metoo hashtag on twitter. \n",
    "- We have explored different aspects of exposure and found several things:\n",
    "    - Most people who tweet about #metoo do so with just a little exposure to it\n",
    "    - The more exposure someone has, the more likely they are to tweet\n",
    "    - Close friends are more influential than other friends\n",
    "- We also looked at different kinds of participation when we compared retweeting with making new tweets, and found that some ways of joining a movement require less social influence than others."
   ]
  }
 ],
 "metadata": {
  "kernelspec": {
   "display_name": "Python 3",
   "language": "python",
   "name": "python3"
  },
  "language_info": {
   "codemirror_mode": {
    "name": "ipython",
    "version": 3
   },
   "file_extension": ".py",
   "mimetype": "text/x-python",
   "name": "python",
   "nbconvert_exporter": "python",
   "pygments_lexer": "ipython3",
   "version": "3.8.8"
  }
 },
 "nbformat": 4,
 "nbformat_minor": 4
}
